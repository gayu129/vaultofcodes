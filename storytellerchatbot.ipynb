{
  "nbformat": 4,
  "nbformat_minor": 0,
  "metadata": {
    "colab": {
      "provenance": []
    },
    "kernelspec": {
      "name": "python3",
      "display_name": "Python 3"
    },
    "language_info": {
      "name": "python"
    }
  },
  "cells": [
    {
      "cell_type": "code",
      "source": [
        "import random\n",
        "\n",
        "# Define lists of genres, themes, and character types\n",
        "genres = [\n",
        "    \"Fantasy\",\n",
        "    \"Romance\",\n",
        "    \"Thriller\",\n",
        "    \"Science Fiction\",\n",
        "    \"Mystery\",\n",
        "    \"Horror\",\n",
        "    \"Historical Fiction\",\n",
        "    \"Adventure\"\n",
        "]\n",
        "\n",
        "themes = [\n",
        "    \"Redemption\",\n",
        "    \"Identity\",\n",
        "    \"Betrayal\",\n",
        "    \"Love\",\n",
        "    \"Courage\",\n",
        "    \"Friendship\",\n",
        "    \"Survival\",\n",
        "    \"Power\"\n",
        "]\n",
        "\n",
        "character_types = [\n",
        "    \"The Anti-Hero\",\n",
        "    \"The Mentor\",\n",
        "    \"The Outsider\",\n",
        "    \"The Prodigy\",\n",
        "    \"The Rebel\",\n",
        "    \"The Innocent\",\n",
        "    \"The Trickster\"\n",
        "]\n",
        "\n",
        "# Define a function to generate a story prompt\n",
        "def generate_prompt(genre, theme, character_type):\n",
        "    prompts = {\n",
        "        \"Fantasy\": [\n",
        "            f\"In a world where dreams can be harvested as energy, {character_type.lower()} discovers a plot to control the dreams of the innocent. Can they unite with a band of misfits to save the dreamscape?\",\n",
        "            f\"A {character_type.lower()} must embark on a quest to retrieve a stolen artifact that holds the key to their kingdom's survival.\"\n",
        "        ],\n",
        "        \"Romance\": [\n",
        "            f\"Two rival bakers in a small town are forced to team up for a prestigious baking competition. As they navigate their differences, they uncover a shared past that could change everything.\",\n",
        "            f\"A {character_type.lower()} finds love in the most unexpected place while trying to escape their troubled past.\"\n",
        "        ],\n",
        "        \"Thriller\": [\n",
        "            f\"A detective with a troubled past receives an anonymous tip about a series of disappearances linked to an underground cult. As they dig deeper, they realize the cult has ties to their own family.\",\n",
        "            f\"A {character_type.lower()} must race against time to uncover a conspiracy that could endanger millions.\"\n",
        "        ],\n",
        "        # Additional genres can be added here\n",
        "    }\n",
        "\n",
        "    # Select a random prompt from the chosen genre\n",
        "    if genre in prompts:\n",
        "        return random.choice(prompts[genre])\n",
        "    else:\n",
        "        return \"Sorry, that genre is not available.\"\n",
        "\n",
        "# Main function to run the generator\n",
        "def main():\n",
        "    print(\"Welcome to the Story Idea Generator!\")\n",
        "\n",
        "    # Get user input for genre, theme, and character type\n",
        "    print(\"\\nAvailable Genres:\", \", \".join(genres))\n",
        "    genre = input(\"Choose a genre: \").strip()\n",
        "\n",
        "    print(\"\\nAvailable Themes:\", \", \".join(themes))\n",
        "    theme = input(\"Choose a theme: \").strip()\n",
        "\n",
        "    print(\"\\nAvailable Character Types:\", \", \".join(character_types))\n",
        "    character_type = input(\"Choose a character type: \").strip()\n",
        "\n",
        "    # Generate and display the prompt\n",
        "    prompt = generate_prompt(genre, theme, character_type)\n",
        "\n",
        "    print(\"\\nYour Story Prompt:\")\n",
        "    print(prompt)\n",
        "\n",
        "# Run the program\n",
        "if __name__ == \"__main__\":\n",
        "    main()"
      ],
      "metadata": {
        "colab": {
          "base_uri": "https://localhost:8080/"
        },
        "id": "N1HNeb3KdWEx",
        "outputId": "dcd5f0ba-8787-4365-902c-1fa3ac063bf5"
      },
      "execution_count": 6,
      "outputs": [
        {
          "output_type": "stream",
          "name": "stdout",
          "text": [
            "Welcome to the Story Idea Generator!\n",
            "\n",
            "Available Genres: Fantasy, Romance, Thriller, Science Fiction, Mystery, Horror, Historical Fiction, Adventure\n",
            "Choose a genre: Romance\n",
            "\n",
            "Available Themes: Redemption, Identity, Betrayal, Love, Courage, Friendship, Survival, Power\n",
            "Choose a theme: Love\n",
            "\n",
            "Available Character Types: The Anti-Hero, The Mentor, The Outsider, The Prodigy, The Rebel, The Innocent, The Trickster\n",
            "Choose a character type: The innocent\n",
            "\n",
            "Your Story Prompt:\n",
            "Two rival bakers in a small town are forced to team up for a prestigious baking competition. As they navigate their differences, they uncover a shared past that could change everything.\n"
          ]
        }
      ]
    }
  ]
}